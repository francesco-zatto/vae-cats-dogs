{
  "nbformat": 4,
  "nbformat_minor": 0,
  "metadata": {
    "colab": {
      "provenance": [],
      "authorship_tag": "ABX9TyNXz68grcwn7ZUnKblDcAit"
    },
    "kernelspec": {
      "name": "python3",
      "display_name": "Python 3"
    },
    "language_info": {
      "name": "python"
    }
  },
  "cells": [
    {
      "cell_type": "markdown",
      "source": [
        "# Variational AutoEncoder (VAE)"
      ],
      "metadata": {
        "id": "D7N-rnrglTU1"
      }
    },
    {
      "cell_type": "code",
      "source": [],
      "metadata": {
        "id": "VBHc_c6WlYY_"
      },
      "execution_count": null,
      "outputs": []
    }
  ]
}